{
 "cells": [
  {
   "cell_type": "code",
   "execution_count": 12,
   "id": "9afac817-9d4b-444b-8df5-b10afad9b3b9",
   "metadata": {},
   "outputs": [],
   "source": [
    "# global constants\n",
    "FIBONACCI_NUMBERS = 20"
   ]
  },
  {
   "cell_type": "markdown",
   "id": "11de0684-2e48-4fb8-8e76-3e04e70a30e3",
   "metadata": {},
   "source": [
    "# Part a)"
   ]
  },
  {
   "cell_type": "code",
   "execution_count": 13,
   "id": "86262d35-aa4c-42c7-8760-068067f035be",
   "metadata": {},
   "outputs": [
    {
     "name": "stdout",
     "output_type": "stream",
     "text": [
      "Fibonacci FOR-loop:\n",
      "The length is 20\n",
      "The list is [1, 1, 2, 3, 5, 8, 13, 21, 34, 55, 89, 144, 233, 377, 610, 987, 1597, 2584, 4181, 6765]\n"
     ]
    }
   ],
   "source": [
    "fibonacci = [1, 1]\n",
    "\n",
    "# Skip already hard-coded len(fibonacci) numbers in fibonacci\n",
    "for i in range(len(fibonacci), FIBONACCI_NUMBERS):\n",
    "    # fibonacci has at least 2 elements at each iteration, so i-2 is >= 0\n",
    "    new_number = fibonacci[i - 1] + fibonacci[i - 2]\n",
    "    fibonacci.append(new_number)\n",
    "\n",
    "print(\"Fibonacci FOR-loop:\")\n",
    "print(f\"The length is {len(fibonacci)}\")\n",
    "print(f\"The list is {fibonacci}\")"
   ]
  },
  {
   "cell_type": "markdown",
   "id": "2422dc99-9a57-40a4-88f9-3c2ad26fc9d1",
   "metadata": {},
   "source": [
    "# Part b)"
   ]
  },
  {
   "cell_type": "code",
   "execution_count": 14,
   "id": "64d70a1a-5fb3-4e3f-bf4f-094ffefb284b",
   "metadata": {},
   "outputs": [
    {
     "name": "stdout",
     "output_type": "stream",
     "text": [
      "Primonacci FOR-loop:\n",
      "The length is 7\n",
      "The list is [2, 3, 5, 13, 89, 233, 1597]\n"
     ]
    }
   ],
   "source": [
    "from math import sqrt\n",
    "\n",
    "def isPrime(num: int) -> bool:\n",
    "    \"\"\"\n",
    "    Check if the nonnegative integer (@param num) is a prime number in O(sqrt(n)) time and O(1) space.\n",
    "\n",
    "    @description\n",
    "    Divisors of natural numbers come in pairs. If d is a divisor of n, then n/d is also a divisor of n.\n",
    "    Therefore, if d < sqrt(n) and is a divisor of n, its pair must be greater than sqrt(n) and n is not prime.\n",
    "    Thus, the algorithm only checks divisors up to sqrt(n). \n",
    "    \"\"\"\n",
    "\n",
    "    if num <= 1:\n",
    "        return False\n",
    "\n",
    "    for i in range(2, int(sqrt(num)) + 1):\n",
    "        if num % i == 0:\n",
    "            return False\n",
    "    \n",
    "    # num is prime, since no divisors were found\n",
    "    return True\n",
    "    \n",
    "primonacci = []\n",
    "\n",
    "for val in fibonacci:\n",
    "    if isPrime(val):\n",
    "        primonacci.append(val)\n",
    "\n",
    "print(\"Primonacci FOR-loop:\")\n",
    "print(f\"The length is {len(primonacci)}\")\n",
    "print(f\"The list is {primonacci}\")"
   ]
  },
  {
   "cell_type": "markdown",
   "id": "dc9a4809-3584-4238-85fe-e2561bf0bf10",
   "metadata": {},
   "source": [
    "# Part c)"
   ]
  },
  {
   "cell_type": "code",
   "execution_count": 15,
   "id": "df9b2337-d47c-426c-bee6-eca7ed9954ac",
   "metadata": {},
   "outputs": [
    {
     "name": "stdout",
     "output_type": "stream",
     "text": [
      "Fibonacci WHILE-loop:\n",
      "The length is 20\n",
      "The list is [1, 1, 2, 3, 5, 8, 13, 21, 34, 55, 89, 144, 233, 377, 610, 987, 1597, 2584, 4181, 6765]\n"
     ]
    }
   ],
   "source": [
    "# generate Fibonacci using while-loop\n",
    "fibonacci_while = [1, 1]\n",
    "\n",
    "while len(fibonacci_while) < FIBONACCI_NUMBERS:\n",
    "    fibonacci_while.append( fibonacci_while[-1] + fibonacci_while[-2] )\n",
    "\n",
    "print(\"Fibonacci WHILE-loop:\")\n",
    "print(f\"The length is {len(fibonacci)}\")\n",
    "print(f\"The list is {fibonacci}\")"
   ]
  },
  {
   "cell_type": "code",
   "execution_count": 16,
   "id": "2dbec3e8-d07d-487c-82a2-4d49f9546a6b",
   "metadata": {},
   "outputs": [
    {
     "name": "stdout",
     "output_type": "stream",
     "text": [
      "Primonacci WHILE-loop:\n",
      "The length is 7\n",
      "The list is [2, 3, 5, 13, 89, 233, 1597]\n"
     ]
    }
   ],
   "source": [
    "# generate Primonacci using while-loop\n",
    "primonacci = []\n",
    "\n",
    "idx = 0\n",
    "while idx != len(fibonacci_while):\n",
    "    current_fibonacci_val = fibonacci_while[idx]\n",
    "    if isPrime(current_fibonacci_val):\n",
    "        primonacci.append(current_fibonacci_val)\n",
    "        \n",
    "    idx += 1\n",
    "\n",
    "print(\"Primonacci WHILE-loop:\")\n",
    "print(f\"The length is {len(primonacci)}\")\n",
    "print(f\"The list is {primonacci}\")"
   ]
  },
  {
   "cell_type": "code",
   "execution_count": null,
   "id": "529ff827-3d1c-4c01-8b4d-bc962b7c46a4",
   "metadata": {},
   "outputs": [],
   "source": []
  }
 ],
 "metadata": {
  "kernelspec": {
   "display_name": "Python 3 (ipykernel)",
   "language": "python",
   "name": "python3"
  },
  "language_info": {
   "codemirror_mode": {
    "name": "ipython",
    "version": 3
   },
   "file_extension": ".py",
   "mimetype": "text/x-python",
   "name": "python",
   "nbconvert_exporter": "python",
   "pygments_lexer": "ipython3",
   "version": "3.12.7"
  }
 },
 "nbformat": 4,
 "nbformat_minor": 5
}
