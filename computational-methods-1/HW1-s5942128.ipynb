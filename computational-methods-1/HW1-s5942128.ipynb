{
 "cells": [
  {
   "cell_type": "markdown",
   "id": "86fb6fea-b089-4022-a939-a62fe88bc501",
   "metadata": {},
   "source": [
    "# HOMEWORK 1\n",
    "\n",
    "The goal of this homework is writing an interface for finding roots of the general quadratic equation $ax^2 + bx + c = 0$ in $\\mathbb{R}$ numbers. The roots are given by $x = \\frac{-b \\pm \\sqrt{D}}{2a}$, where $D = b^2 - 4ac$. If $D$ is positive, there are two real solutions; if $D$ is negative, there are no real solutions; finally, if $D$ is zero, there is one unique solution.\n"
   ]
  },
  {
   "cell_type": "code",
   "execution_count": 21,
   "id": "327707f7-3777-4af9-8a21-30c698802a88",
   "metadata": {},
   "outputs": [],
   "source": [
    "from typing import Union, Tuple, Optional, Literal\n",
    "from math import sqrt\n",
    "\n",
    "InfiniteSolutions = Literal[\"InfiniteSolutions\"]\n",
    "QuadraticsSolution = Optional[Union[float, Tuple[float, float], InfiniteSolutions]]\n",
    "\n",
    "def solveQuadratics(a: float, b: float, c: float) -> QuadraticsSolution:\n",
    "    \"\"\"\n",
    "        @brief\n",
    "        Solves quadratic equations of the form ax^2+bx+c=0 in real numbers.\n",
    "\n",
    "        @param a quadratic coefficient\n",
    "        @param b linear coefficient\n",
    "        @param c constant term\n",
    "\n",
    "        @return\n",
    "        1. None if no solutions.\n",
    "        2. float number if one unique solution.\n",
    "        3. (float, float) tuple if there are two solutions.\n",
    "    \"\"\"\n",
    "\n",
    "    # Solves equations of the form bx + c = 0, b is not zero\n",
    "    solveLinear = lambda b, c: -c / b\n",
    "\n",
    "    # Evaluates roots of the quadratics\n",
    "    obtainRoots = lambda a, b, D: ( \n",
    "        (-b + sqrt(D)) / (2 * a), \n",
    "        (-b - sqrt(D)) / (2 * a) \n",
    "    )\n",
    "    \n",
    "    # In case of a linear equation\n",
    "    if (a == 0) and (not b == 0):\n",
    "        return solveLinear(b, c)\n",
    "    elif (a == 0) and (b == 0):\n",
    "        return (\"InfiniteSolutions\" if c == 0 else None)\n",
    "    \n",
    "    # In case of a quadratic equation\n",
    "    discriminant = b * b - 4 * a * c\n",
    "    if (discriminant > 0):\n",
    "        return obtainRoots(a, b, discriminant)\n",
    "    elif (discriminant == 0): # two solutions are equal\n",
    "        return obtainRoots(a, b, discriminant)[0]\n",
    "\n",
    "    return None\n",
    "\n",
    "def printSolution(solution: QuadraticsSolution):\n",
    "    \"\"\"\n",
    "        @brief \n",
    "        Displays solution of type QuadraticsSolution in an appealing manner.\n",
    "    \"\"\"\n",
    "    \n",
    "    if solution == \"InfiniteSolutions\":\n",
    "        print(\"There are infinitely many solutions.\")\n",
    "    elif isinstance(solution, tuple):\n",
    "        x1, x2 = solution\n",
    "        print(f\"There are two solutions: x1 = {x1} and x2 = {x2}.\")\n",
    "    elif isinstance(solution, float):\n",
    "        print(f\"There is one solution: x = {solution}.\")\n",
    "    # solution is None\n",
    "    else: \n",
    "        print(f\"There are no solutions.\")\n"
   ]
  },
  {
   "cell_type": "code",
   "execution_count": null,
   "id": "6650a63b-f57f-4321-8122-0f88a4e9c33d",
   "metadata": {},
   "outputs": [],
   "source": [
    "# Get user input\n",
    "a = float(input(\"a = \"))\n",
    "b = float(input(\"b = \"))\n",
    "c = float(input(\"c = \"))\n",
    "\n",
    "solution = solveQuadratics(a, b, c)\n",
    "printSolution(solution)"
   ]
  }
 ],
 "metadata": {
  "kernelspec": {
   "display_name": "Python 3 (ipykernel)",
   "language": "python",
   "name": "python3"
  },
  "language_info": {
   "codemirror_mode": {
    "name": "ipython",
    "version": 3
   },
   "file_extension": ".py",
   "mimetype": "text/x-python",
   "name": "python",
   "nbconvert_exporter": "python",
   "pygments_lexer": "ipython3",
   "version": "3.12.7"
  }
 },
 "nbformat": 4,
 "nbformat_minor": 5
}
