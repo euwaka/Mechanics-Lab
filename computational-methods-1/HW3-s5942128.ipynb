{
 "cells": [
  {
   "cell_type": "code",
   "execution_count": 1,
   "id": "8b553611-1bb0-4c8d-ae13-7adb2f3e5220",
   "metadata": {},
   "outputs": [],
   "source": [
    "from functools import lru_cache\n",
    "\n",
    "@lru_cache(None)\n",
    "def my_factorial(n: int) -> int:\n",
    "    \"\"\"Calculates the factorial of an arbitrary integer n >= 0 using recursion with memoization.\"\"\"\n",
    "    if (n == 0):\n",
    "        return 1\n",
    "    return n * my_factorial(n - 1)\n",
    "\n",
    "def my_sin(x: float, number_terms: int = 20) -> float:\n",
    "    r\"\"\"\n",
    "    Approximates the sine function using the Maclaurin series expansion:\n",
    "    \n",
    "    \\[ \\sin(x) = \\sum_{i=0}^{\\infty} \\frac{(-1)^i}{(2i+1)!} x^{2i+1} \\]\n",
    "    \n",
    "    Parameters:\n",
    "    -----------\n",
    "    x: float\n",
    "        The angle in radians.\n",
    "    number_terms: int, optional (default=20)\n",
    "        The number of terms to include in the expansion.\n",
    "\n",
    "    Returns:\n",
    "    --------\n",
    "    float\n",
    "        The approximate value of the sine function at x with the \"number_terms\" number of terms.\n",
    "    \"\"\"\n",
    "\n",
    "    result: float = 0\n",
    "    \n",
    "    for i in range(0, number_terms):\n",
    "        # equivalent to (-1)**i\n",
    "        sign: int = 1 if i % 2 == 0 else -1\n",
    "        \n",
    "        result += sign * x**(2*i + 1) / my_factorial(2*i + 1) \n",
    "\n",
    "    return result"
   ]
  },
  {
   "cell_type": "code",
   "execution_count": 2,
   "id": "97e3b527-c776-471f-a713-28000afe2d24",
   "metadata": {},
   "outputs": [
    {
     "name": "stdout",
     "output_type": "stream",
     "text": [
      "Numpy: -0.00000\n",
      "My result: 0.00000\n",
      "\n",
      "TIMINGS\n",
      "\n",
      "Numpy takes: \n",
      "1.24 μs ± 445 ns per loop (mean ± std. dev. of 7 runs, 1,000,000 loops each)\n",
      "whereas\n",
      "My function with memoization takes: \n",
      "4.55 μs ± 4.81 ns per loop (mean ± std. dev. of 7 runs, 100,000 loops each)\n"
     ]
    }
   ],
   "source": [
    "import numpy as np\n",
    "\n",
    "numpy_result = np.sin(2 * np.pi)\n",
    "my_result    = my_sin(2 * np.pi)\n",
    "print(f\"Numpy: {numpy_result:.5f}\\nMy result: {my_result:.5f}\")\n",
    "\n",
    "print(\"\\nTIMINGS\\n\")\n",
    "\n",
    "# Show which function is faster\n",
    "print(\"Numpy takes: \")\n",
    "%timeit numpy_result = np.sin(2 * np.pi)\n",
    "print(\"whereas\\nMy function with memoization takes: \")\n",
    "%timeit my_result    = my_sin(2 * np.pi)"
   ]
  },
  {
   "cell_type": "markdown",
   "id": "34a468bb-fd79-4f27-b054-dde999f720d8",
   "metadata": {},
   "source": [
    "# Comments\n",
    "\n",
    "Numpy takes about 4 times less time to calculate the sine. If my_factorial doesn't use memoization, my_function will take approximately 26.00μs which is much worse than Numpy or my_function with memoization."
   ]
  }
 ],
 "metadata": {
  "kernelspec": {
   "display_name": "Python 3 (ipykernel)",
   "language": "python",
   "name": "python3"
  },
  "language_info": {
   "codemirror_mode": {
    "name": "ipython",
    "version": 3
   },
   "file_extension": ".py",
   "mimetype": "text/x-python",
   "name": "python",
   "nbconvert_exporter": "python",
   "pygments_lexer": "ipython3",
   "version": "3.12.7"
  }
 },
 "nbformat": 4,
 "nbformat_minor": 5
}
